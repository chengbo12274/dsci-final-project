{
 "cells": [
  {
   "cell_type": "code",
   "execution_count": 4,
   "id": "1ce745dc-1b3f-42c2-a831-fb0ef7d9145e",
   "metadata": {},
   "outputs": [],
   "source": [
    "library(tidyverse)\n",
    "library(repr)\n",
    "library(tidymodels)\n",
    "library(cowplot)\n",
    "options(repr.matrix.max.rows = 6)"
   ]
  },
  {
   "cell_type": "markdown",
   "id": "d85a95be-7488-455c-afa6-6fba6199a8ba",
   "metadata": {},
   "source": [
    "                    Can Age Predict Player Engagement on a Research Game Server"
   ]
  },
  {
   "cell_type": "markdown",
   "id": "32a7c93d-1322-4908-9d37-1e9974f95e0b",
   "metadata": {},
   "source": [
    "In today’s data-driven research environment, player behavior data offers valuable insights for understanding user engagement and optimizing resource allocation. A computer science research team at UBC has established a research server on the Minecraft platform to collect behavioral data from players as they navigate the virtual world. To enhance data quality and research efficiency, the team aims to identify which players are more likely to contribute a large amount of data—that is, those who spend more time on the server. Centered around this goal, the present project poses the following research question: Can a player's age effectively predict their gameplay time? In this context, contributing a large amount of data is typically measured by the number of hours a player spends in the game, while the \"type\" of player refers to those with observable characteristics such as age. The dataset used for this analysis contains 196 observations, each representing one player. It includes 7 variables in total. Specifically, experience is the player's self-assessed gaming level, categorized as \"Amateur,\" \"Pro,\" or \"Veteran\"; subscribe indicates whether the player subscribed to the research newsletter (a logical variable); played_hours is the total number of hours a player spent on the server, and serves as the response variable in this study; Age is the player's self-reported age and the main explanatory variable; gender is the player's selected gender. The dataset also contains name and hashedEmail, which are identifying fields not used in modeling. During data preprocessing, we found that the Age column contained missing values, so records with missing ages were removed prior to modeling. Overall, this dataset is well-structured and reasonably complete, providing a solid foundation to explore the research question of whether age can predict gameplay time."
   ]
  },
  {
   "cell_type": "markdown",
   "id": "7d85549d-89c0-42d7-bbaf-348f78276bc3",
   "metadata": {},
   "source": [
    "To investigate whether a player's age can predict their gameplay time on the research server, this study employed a linear regression model for modeling and analysis. The analysis workflow consisted of several key steps: data import, preprocessing, data splitting, model construction, prediction visualization, and performance evaluation. The researcher first used the read_delim() function to import the raw dataset players.csv, and selected the core variables: Age (player's age) and played_hours (total gameplay time). Since the Age column contained missing values, all incomplete records were removed prior to modeling to ensure data quality. Next, the initial_split() function was used to divide the data into a 75% training set and a 25% testing set, with the strata = played_hours parameter ensuring stratified sampling consistency based on gameplay time distribution. During the modeling phase, the tidymodels framework was employed to construct a linear regression model. The recipe() function was used to preprocess the explanatory variable Age by centering and scaling it, in order to eliminate the impact of variable magnitude on model estimation. The regression model itself was defined using the linear_reg() function with the engine set to \"lm\" (linear model), and it was combined with the recipe into a workflow() for model fitting on the training data. Once model fitting was completed, predictions were made on both the training and testing sets. The ggplot2 package was used to visualize the prediction trends and compare them against the actual values using fitted plots. Finally, the RMSE on the testing set was calculated to quantify the accuracy of the model's predictions.\n",
    "Below is the code:"
   ]
  },
  {
   "cell_type": "code",
   "execution_count": 5,
   "id": "7f080dd5-5b16-4778-9f68-af8cd611ede6",
   "metadata": {},
   "outputs": [],
   "source": [
    "set.seed(627)\n",
    "player_data <- read_delim(\"players.csv\", delim = \" \", col_names = TRUE, show_col_types = FALSE)\n",
    "clean_data <- player_data |> \n",
    "  select(played_hours, Age) |>       \n",
    "  filter(!is.na(Age)) |>               \n",
    "  as_tibble()\n",
    "mean_play_hours <- clean_data |>\n",
    "  summarize(mean_hours = mean(played_hours))\n",
    "player_split <- initial_split(clean_data, prop = 0.75, strata = played_hours)\n",
    "player_training <- training(player_split)\n",
    "player_testing <- testing(player_split)\n",
    "training_plot <- ggplot(player_training, aes(x = Age, y = played_hours)) +\n",
    "           geom_point() +\n",
    "           xlab(\"Age for different players (Years)\") +\n",
    "           ylab(\"Total playedb hours (h)\") +\n",
    "           labs(title = \"Training Data Plot\") +\n",
    "           theme(text = element_text(size = 12))\n",
    "player_spec <- linear_reg() |>\n",
    "  set_engine(\"lm\") |>\n",
    "  set_mode(\"regression\")\n",
    "player_recipe <- recipe(played_hours ~ Age, data = player_training) |>\n",
    "             step_center(all_predictors()) |>\n",
    "             step_scale(all_predictors())\n",
    "player_fit <- workflow() |>\n",
    "       add_recipe(player_recipe) |>\n",
    "       add_model(player_spec) |>\n",
    "       fit(data = player_training)\n",
    "player_preds <- player_fit |>\n",
    "   predict(player_training) |>\n",
    "   bind_cols(player_training)\n",
    "player_predictions <- player_preds |>\n",
    "     ggplot(aes(x = Age, y = played_hours)) +\n",
    "         geom_point(alpha = 0.4) +\n",
    "         geom_line(\n",
    "             mapping = aes(x = Age, y = .pred), \n",
    "             color = \"blue\") +\n",
    "         xlab(\"Age for different players (Years)\") +\n",
    "         ylab(\"Total playedb hours (h)\") +\n",
    "         labs(title = \"Training Data Predication Plot\") +\n",
    "         theme(text = element_text(size = 20))"
   ]
  },
  {
   "cell_type": "code",
   "execution_count": null,
   "id": "352b9c2e-19f1-4197-a5d6-38bdca93677f",
   "metadata": {},
   "outputs": [],
   "source": []
  },
  {
   "cell_type": "code",
   "execution_count": null,
   "id": "4bbab163-2604-4031-803c-54dc75c5c29c",
   "metadata": {},
   "outputs": [],
   "source": []
  },
  {
   "cell_type": "code",
   "execution_count": null,
   "id": "aef2a358-1900-410d-a913-bf7ab1ef42bd",
   "metadata": {},
   "outputs": [],
   "source": []
  }
 ],
 "metadata": {
  "kernelspec": {
   "display_name": "R",
   "language": "R",
   "name": "ir"
  },
  "language_info": {
   "codemirror_mode": "r",
   "file_extension": ".r",
   "mimetype": "text/x-r-source",
   "name": "R",
   "pygments_lexer": "r",
   "version": "4.3.3"
  }
 },
 "nbformat": 4,
 "nbformat_minor": 5
}
